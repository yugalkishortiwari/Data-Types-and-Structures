{
 "cells": [
  {
   "cell_type": "code",
   "execution_count": null,
   "id": "7a58c308-b1d4-4b93-bc95-93d9c8b69038",
   "metadata": {},
   "outputs": [],
   "source": [
    "# .Theory Data Types and Structures"
   ]
  },
  {
   "cell_type": "code",
   "execution_count": null,
   "id": "3bdd2816-49c9-4151-becc-01e23bfc90aa",
   "metadata": {},
   "outputs": [],
   "source": [
    "# 1. What are data structures, and why are they important?\n",
    "\n",
    "# Ans - Data Structures are a way of organizing data so that it can be accessed more efficiently depending upon the situation. Data Structures are\n",
    "#  fundamentals of any programming language around which a program is built. Python helps to learn the fundamental of these data structures in a simpler\n",
    "#  way as compared to other programming languages.\n",
    "\n",
    "# They are important because it helps to structure data logically, making it easier to manage and work with.It is a essential tools for solving various \n",
    "# programming problems, from simple tasks to complex algorithms.It enables to understand the problem statements on a deeper level and create\n",
    "# logical solutions to solve them.\n"
   ]
  },
  {
   "cell_type": "code",
   "execution_count": null,
   "id": "70e0e60c-7310-4889-9e10-71a5fcf9ccbc",
   "metadata": {},
   "outputs": [],
   "source": [
    "# 3. What are the main differences between lists and tuples in Python?\n",
    "\n",
    "# Ans - The primary difference between lists and tuples in Python lies in their mutability: lists are mutable (can be changed), while tuples are \n",
    "#       immutable (cannot be changed after creation). The Syntax for List is [] and and the syntax for tuples is ().Lists are Slower, more \n",
    "#       memory-intensive and the tuples are faster and more memory-efficient."
   ]
  },
  {
   "cell_type": "code",
   "execution_count": null,
   "id": "b38589c8-f479-4937-a6b7-1f7ea485f37c",
   "metadata": {},
   "outputs": [],
   "source": [
    "# 4. Describe how dictionaries store data?\n",
    "\n",
    "# Ans - Dictionaries are used to store data values in key:value pairs.A dictionary is a collection which is ordered, changeable and do not allow \n",
    "#       duplicates."
   ]
  },
  {
   "cell_type": "code",
   "execution_count": null,
   "id": "6a91c0ec-d48b-4e30-8b29-35ad8262dede",
   "metadata": {},
   "outputs": [],
   "source": [
    "# 5. Why might you use a set instead of a list in Python?\n",
    "\n",
    "# Ans - Since sets do not store indexed data or duplicates, they use less memory than lists and are less computationally expensive. As a result, \n",
    "#       sets take less time to search through.On the other hand "
   ]
  },
  {
   "cell_type": "code",
   "execution_count": null,
   "id": "d584973a-68c4-4b83-9a0d-0954e603714c",
   "metadata": {},
   "outputs": [],
   "source": [
    "# 2. Explain the difference between mutable and immutable data types with examples.\n",
    "\n",
    "# Ans - Mutable Data Type is a data type where values can be changed after creation.It is memory-efficient, as no new objects are created for frequent\n",
    "#       changes.We can modify, add, or remove existing data frequently.Example - List, Dictionaries, Set.\n",
    "\n",
    "#       Immutable data type is a data type whose values can’t be changed or altered.It might be faster in some scenarios as there’s no need \n",
    "#       to track changes.We can not modify, add, or remove existing data frequently.Example - Strings, Types, Integer"
   ]
  },
  {
   "cell_type": "code",
   "execution_count": null,
   "id": "1d8e9f27-7211-4d33-90c5-7d601edfb3c7",
   "metadata": {},
   "outputs": [],
   "source": [
    "# 6. What is a string in Python, and how is it different from a list ?\n",
    "# Ans - In Python, a string is a sequence of characters enclosed within single quotes (') or double quotes (\"). For example:\n",
    "\n",
    "#   python\n",
    "#   Copy\n",
    "my_string = \"Hello, World!\"\n",
    "Characteristics of a String:\n",
    "# Immutable: Once a string is created, you cannot change it (i.e., you cannot modify a specific character in a string).\n",
    "# Any operation that seems to modify the string will instead create a new string.\n",
    "\n",
    "# Indexing and slicing: You can access characters in a string using indexing, starting from index 0 \n",
    "#  for the first character, and can use slicing to get a subset of characters."
   ]
  },
  {
   "cell_type": "code",
   "execution_count": null,
   "id": "559c9947-859b-470e-adbc-750a100dc947",
   "metadata": {},
   "outputs": [],
   "source": [
    "# 7. How do tuples ensure data integrity in Python ?\n",
    "# Ans - Tuples ensure data integrity by being immutable, meaning their contents cannot be changed after creation,\n",
    "\n",
    "# This prevents accidental modifications, making tuples a reliable choice for storing constant data and helping to maintain the consistency of data throughout a program. Additionally, they are efficient in terms of memory usage and can be used as keys in dictionaries and elements in sets, further enhancing their utility in \n",
    "        maintaining data integrity...\n",
    "#1 - Immutability\n",
    "#2 - Protection Against Accidental Changes\n",
    "#3 - Efficient Memory Usage"
   ]
  },
  {
   "cell_type": "code",
   "execution_count": null,
   "id": "b759b111-57b6-4626-9e21-07d69b426373",
   "metadata": {},
   "outputs": [],
   "source": [
    "# 8. What is a hash table, and how does it relate to dictionaries in Python ?\n",
    "# Ans - Key-Value Pair: A hash table stores data as a collection of key-value pairs. Each key is unique, and it maps to a specific value.\n",
    "#       Hash Function: The hash function computes an index for each key, which determines where the associated value will be stored in the table.\n",
    "#       A good hash function distributes keys uniformly to minimize collisions (when two keys hash to the same index)."
   ]
  },
  {
   "cell_type": "code",
   "execution_count": null,
   "id": "f2ffbe46-066b-41a2-90ca-b794ffd98f56",
   "metadata": {},
   "outputs": [],
   "source": [
    "# 9. Can lists contain different data types in Python ?\n",
    "# Ans - Yes, lists in Python can contain elements of different data types. Unlike some other programming languages where lists (or arrays) are required to contain elements of the same data type,\n",
    "# Python allows lists to store mixed data types."
   ]
  },
  {
   "cell_type": "code",
   "execution_count": null,
   "id": "c5e52a79-f7b5-4eb5-ac74-c8d7ae4bd3e8",
   "metadata": {},
   "outputs": [],
   "source": [
    "# 10. Explain why strings are immutable in Python ?\n",
    "# Ans - Strings in Python are immutable for several reasons:\n",
    "\n",
    "#    Efficiency: Immutable strings allow for memory optimizations like interning and fast lookups in hash-based structures.\n",
    "\n",
    "#    Consistency: Immutability avoids unexpected changes and side effects, making programs more predictable and easier to debug.\n",
    "\n",
    "#    Thread Safety: Since strings cannot be changed, they are safe to use in multi-threaded environments.\n",
    "\n",
    "#    Simplified Design: Immutable strings simplify the design of Python programs by making data handling more straightforward."
   ]
  },
  {
   "cell_type": "code",
   "execution_count": null,
   "id": "2df91e79-c6c0-482b-a920-868ff9000297",
   "metadata": {},
   "outputs": [],
   "source": [
    "# 11. What advantages do dictionaries offer over lists for certain tasks?\n",
    "# Ans - ''Dictionaries are more efficient and flexible than lists for tasks involving\n",
    "\n",
    "# Fast lookups by unique keys.\n",
    "\n",
    "# Storing key-value mappings (e.g., user settings, phonebook entries).\n",
    "\n",
    "# Ensuring uniqueness of keys.\n",
    "\n",
    "# Modifying values based on a key.\n",
    "\n",
    "# On the other hand, lists are better suited for ordered collections where you need to access or modify elements by their position in the sequence''"
   ]
  },
  {
   "cell_type": "code",
   "execution_count": null,
   "id": "8c82b4ec-1569-4557-b049-a2f4fdf71448",
   "metadata": {},
   "outputs": [],
   "source": [
    "# 12. Describe a scenario where using a tuple would be preferable over a list?\n",
    "# Ans - A tuple is preferable over a list in scenarios where immutability, data integrity, and performance optimizations are required.\n",
    "#      Since the coordinates (latitude and longitude) should not change once they are recorded, using a tuple would be the ideal choice."
   ]
  },
  {
   "cell_type": "code",
   "execution_count": null,
   "id": "2e981efe-06db-45f2-acfe-f8c66f839cef",
   "metadata": {},
   "outputs": [],
   "source": [
    "# 13. How do sets handle duplicate values in Python?\n",
    "# Ans - In Python, sets are designed to store unique elements, which means they automatically handle duplicate values by removing them. \n",
    "#If you attempt to add a duplicate value to a set, it will simply not be included in the set again.\n",
    "\n",
    "#Key Points About Sets and Duplicates:\n",
    "'Unique Elements: A set automatically eliminates any duplicates. It only stores distinct elements, so if you try to add an element that's already in the set, it will be ignored.\n",
    "\n",
    "Unordered Collection: A set does not maintain the order of the elements, and there's no guarantee about the order in which items are stored or returned when iterating over a set."
   ]
  },
  {
   "cell_type": "code",
   "execution_count": null,
   "id": "feba930c-a691-47a5-8a34-f7075be87549",
   "metadata": {},
   "outputs": [],
   "source": [
    "# 14. How does the “in” keyword work differently for lists and dictionaries?\n",
    "# Ans - The in keyword in Python is used to check for membership, but how it behaves depends on whether you're working with a list or a dictionary.\n",
    "\n",
    "# Let's break down the differences:\n",
    "1. Using in with a List\n",
    "'When the in keyword is used with a list, it checks if the specified element exists in the list\n",
    "'It checks for the presence of the value itself, not the index or position"
   ]
  },
  {
   "cell_type": "code",
   "execution_count": null,
   "id": "8f8f2912-3a36-4f07-91d6-02e522b9c460",
   "metadata": {},
   "outputs": [],
   "source": [
    "# 15. Can you modify the elements of a tuple? Explain why or why not.\n",
    "# Ans - No, you cannot modify the elements of a tuple in Python. Tuples are immutable, \n",
    "'which means that once a tuple is created, its elements cannot be changed, added, or removed."
   ]
  },
  {
   "cell_type": "code",
   "execution_count": null,
   "id": "13019242-5388-4e9b-9720-3520420558fb",
   "metadata": {},
   "outputs": [],
   "source": [
    "# 16. What is a nested dictionary, and give an example of its use case?\n",
    "# Ans - A nested dictionary is a dictionary in Python where the values of some or all keys are themselves dictionaries.\n",
    "# In other words, a dictionary can have other dictionaries as values, creating a hierarchical structure of key-value pairs.\n",
    "\n",
    "'Nested dictionaries are useful when you need to represent complex data structures, \n",
    "'where each key in the outer dictionary can lead to another dictionary that contains more detailed data"
   ]
  },
  {
   "cell_type": "code",
   "execution_count": null,
   "id": "5d28919d-a5ad-4188-a669-6ae85d1f49c9",
   "metadata": {},
   "outputs": [],
   "source": [
    "# 17. Describe the time complexity of accessing elements in a dictionary.\n",
    "# Ans - In Python, dictionaries are implemented using hash tables, and accessing elements in a dictionary \n",
    "#       generally has a time complexity of O(1), meaning constant time. This makes dictionaries very efficient for lookups, insertions, and deletions, \n",
    "#       as these operations typically take the same amount of time regardless of the size of the dictionary."
   ]
  },
  {
   "cell_type": "code",
   "execution_count": null,
   "id": "eef414c0-0d5f-4688-8b1f-7dc564b122df",
   "metadata": {},
   "outputs": [],
   "source": [
    "# 18. In what situations are lists preferred over dictionaries?\n",
    "# Ans - Lists maintain the order of elements, while dictionaries (prior to Python 3.7) were unordered. \n",
    "# Even though dictionaries maintain insertion order starting from Python 3.7,\n",
    "# they are still primarily optimized for key-based access rather than order-based access."
   ]
  },
  {
   "cell_type": "code",
   "execution_count": null,
   "id": "71ecddb5-7cdf-4cea-8811-c114eaa9a94a",
   "metadata": {},
   "outputs": [],
   "source": [
    "# 19. Why are dictionaries considered unordered, and how does that affect data retrieval?\n",
    "# Ans - In Python versions prior to 3.7, dictionaries were considered unordered because the order in which keys were stored was not guaranteed. \n",
    "#       The key-value pairs in a dictionary were stored in a way that didn’t preserve the order in which they were inserted."
   ]
  },
  {
   "cell_type": "code",
   "execution_count": null,
   "id": "3acac4a5-f7ca-4f82-907a-b165fdc69d46",
   "metadata": {},
   "outputs": [],
   "source": [
    "# 20. Explain the difference between a list and a dictionary in terms of data retrieval.\n",
    "# Ans - In Python, both lists and dictionaries are commonly used data structures, \n",
    "# but they differ significantly in how they store and retrieve data. \n",
    "''  Data Structure Type:\n",
    "List: A list is an ordered collection of items that can be accessed by their index (position in the list).\n",
    "\n",
    "Dictionary: A dictionary is an unordered collection of key-value pairs. Data is accessed via unique keys.\n",
    " Data Retrieval Method:\n",
    "List:\n",
    "\n",
    "You retrieve elements by their index in the list.\n",
    "\n",
    "Indexes are zero-based, so the first item has index 0, the second item has index 1, and so on.\n",
    "\n",
    "Retrieving an element involves knowing its position (index) in the list."
   ]
  },
  {
   "cell_type": "code",
   "execution_count": null,
   "id": "cc6f0167-88f8-4ce7-adde-7957c63fe96d",
   "metadata": {},
   "outputs": [],
   "source": [
    "#. Practical Questions Data Types and Structures"
   ]
  },
  {
   "cell_type": "code",
   "execution_count": 1,
   "id": "d6b63dd9-5025-4a89-85d3-ff16db009449",
   "metadata": {},
   "outputs": [
    {
     "name": "stdout",
     "output_type": "stream",
     "text": [
      "My name is Yugal kishor\n",
      "<class 'str'>\n"
     ]
    }
   ],
   "source": [
    "# 1. Write a code to create a string with your name and print it\n",
    "\n",
    "a = \"My name is Yugal kishor\"\n",
    "print(a)\n",
    "print(type(a))"
   ]
  },
  {
   "cell_type": "code",
   "execution_count": 2,
   "id": "cb44ac5a-3615-414c-902b-13bb22bd655c",
   "metadata": {},
   "outputs": [
    {
     "name": "stdout",
     "output_type": "stream",
     "text": [
      "11\n"
     ]
    }
   ],
   "source": [
    "# 2. Write a code to find the length of the string \"Hello World\"\n",
    "a = len(\"Hello World\")\n",
    "print(a)"
   ]
  },
  {
   "cell_type": "code",
   "execution_count": 3,
   "id": "67068d60-06e7-444e-9893-70ebec6d1d5b",
   "metadata": {},
   "outputs": [
    {
     "data": {
      "text/plain": [
       "'Pyt'"
      ]
     },
     "execution_count": 3,
     "metadata": {},
     "output_type": "execute_result"
    }
   ],
   "source": [
    "# 3. Write a code to slice the first 3 characters from the string \"Python Programming\"\n",
    "\n",
    "list = \"Python Programming\"\n",
    "list[0:3]"
   ]
  },
  {
   "cell_type": "code",
   "execution_count": 4,
   "id": "d428460c-c832-43f2-b145-b70243b0617b",
   "metadata": {},
   "outputs": [
    {
     "name": "stdout",
     "output_type": "stream",
     "text": [
      "HELLO\n"
     ]
    }
   ],
   "source": [
    "# 4. Write a code to convert the string \"hello\" to uppercase\n",
    "\n",
    "a = \"hello\"\n",
    "print(a.upper())"
   ]
  },
  {
   "cell_type": "code",
   "execution_count": 5,
   "id": "bb641a18-7ebe-4637-a840-922f5671e60f",
   "metadata": {},
   "outputs": [
    {
     "name": "stdout",
     "output_type": "stream",
     "text": [
      "[1, 2, 3, 4, 5]\n",
      "<class 'list'>\n"
     ]
    }
   ],
   "source": [
    "# 6. Write a code to create a list with numbers 1 to 5 and print it\n",
    "\n",
    "list = [1, 2, 3, 4, 5]\n",
    "print(list)\n",
    "print(type(list))"
   ]
  },
  {
   "cell_type": "code",
   "execution_count": 6,
   "id": "f0a3f906-e34a-4ef8-a6d7-00f2f228f5f7",
   "metadata": {},
   "outputs": [
    {
     "name": "stdout",
     "output_type": "stream",
     "text": [
      "['1', '2', '3', '4', '10']\n"
     ]
    }
   ],
   "source": [
    "# 7. Write a code to append the number 10 to the list [1, 2, 3, 4]\n",
    "\n",
    "list = [\"1\", \"2\", \"3\", \"4\"]\n",
    "list.append(\"10\")\n",
    "print(list)"
   ]
  },
  {
   "cell_type": "code",
   "execution_count": 7,
   "id": "82bda38e-0de4-459c-b143-beda9a971aae",
   "metadata": {},
   "outputs": [
    {
     "name": "stdout",
     "output_type": "stream",
     "text": [
      "['1', '2', '4', '5']\n"
     ]
    }
   ],
   "source": [
    "# 8. Write a code to remove the number 3 from the list [1, 2, 3, 4, 5]\n",
    "\n",
    "list = [\"1\", \"2\", \"3\", \"4\", \"5\"]\n",
    "del list[2]\n",
    "print(list)"
   ]
  },
  {
   "cell_type": "code",
   "execution_count": 8,
   "id": "46ce92d5-550c-4812-80e8-408ef6147277",
   "metadata": {},
   "outputs": [
    {
     "data": {
      "text/plain": [
       "'b'"
      ]
     },
     "execution_count": 8,
     "metadata": {},
     "output_type": "execute_result"
    }
   ],
   "source": [
    "# 9. Write a code to access the second element in the list ['a', 'b', 'c', 'd']\n",
    "\n",
    "list = ['a', 'b', 'c', 'd']\n",
    "list[1]"
   ]
  },
  {
   "cell_type": "code",
   "execution_count": 9,
   "id": "2a6857b6-cbd5-4f87-bb39-d0c42a0850f1",
   "metadata": {},
   "outputs": [
    {
     "name": "stdout",
     "output_type": "stream",
     "text": [
      "[50, 40, 30, 20, 10]\n"
     ]
    }
   ],
   "source": [
    "# 10. Write a code to reverse the list [10, 20, 30, 40, 50].\n",
    "\n",
    "list = [10, 20, 30, 40, 50]\n",
    "list.reverse()\n",
    "print(list)"
   ]
  },
  {
   "cell_type": "code",
   "execution_count": 10,
   "id": "5fd12e9a-7fb3-4876-875a-335c20d42ec3",
   "metadata": {},
   "outputs": [
    {
     "name": "stdout",
     "output_type": "stream",
     "text": [
      "(100, 200, 300)\n",
      "<class 'tuple'>\n"
     ]
    }
   ],
   "source": [
    "# 11. Write a code to create a tuple with the elements 100, 200, 300 and print it.\n",
    "\n",
    "tup = (100, 200, 300)\n",
    "print(tup)\n",
    "print(type(tup))"
   ]
  },
  {
   "cell_type": "code",
   "execution_count": 11,
   "id": "5f1655af-4f2b-489b-988e-f8f9da2f577d",
   "metadata": {},
   "outputs": [
    {
     "data": {
      "text/plain": [
       "tuple"
      ]
     },
     "execution_count": 11,
     "metadata": {},
     "output_type": "execute_result"
    }
   ],
   "source": [
    "# 12. Write a code to access the second-to-last element of the tuple ('red', 'green', 'blue', 'yellow').\n",
    "\n",
    "tup = ('red', 'green', 'blue', 'yellow')\n",
    "type(tup)\n",
    "#print(tup.index(3))"
   ]
  },
  {
   "cell_type": "code",
   "execution_count": 12,
   "id": "e3b47f02-694e-4583-b7b4-25440b61d112",
   "metadata": {},
   "outputs": [
    {
     "name": "stdout",
     "output_type": "stream",
     "text": [
      "Minimum number: 5\n"
     ]
    }
   ],
   "source": [
    "# 13. Write a code to find the minimum number in the tuple (10, 20, 5, 15).\n",
    "\n",
    "a = (10, 20, 5, 15)\n",
    "print(\"Minimum number:\", min(a))"
   ]
  },
  {
   "cell_type": "code",
   "execution_count": 14,
   "id": "ded18915-6f39-44f5-b195-e2e53034dbe9",
   "metadata": {},
   "outputs": [
    {
     "ename": "NameError",
     "evalue": "name 'cat' is not defined",
     "output_type": "error",
     "traceback": [
      "\u001b[31m---------------------------------------------------------------------------\u001b[39m",
      "\u001b[31mNameError\u001b[39m                                 Traceback (most recent call last)",
      "\u001b[36mCell\u001b[39m\u001b[36m \u001b[39m\u001b[32mIn[14]\u001b[39m\u001b[32m, line 5\u001b[39m\n\u001b[32m      3\u001b[39m t = (\u001b[33m'\u001b[39m\u001b[33mdog\u001b[39m\u001b[33m'\u001b[39m, \u001b[33m'\u001b[39m\u001b[33mcat\u001b[39m\u001b[33m'\u001b[39m, \u001b[33m'\u001b[39m\u001b[33mrabbit\u001b[39m\u001b[33m'\u001b[39m)\n\u001b[32m      4\u001b[39m \u001b[38;5;28mtype\u001b[39m(t)\n\u001b[32m----> \u001b[39m\u001b[32m5\u001b[39m \u001b[38;5;28mprint\u001b[39m(t.index(\u001b[43mcat\u001b[49m))\n",
      "\u001b[31mNameError\u001b[39m: name 'cat' is not defined"
     ]
    }
   ],
   "source": [
    "# 14. Write a code to find the index of the element \"cat\" in the tuple ('dog', 'cat', 'rabbit').\n",
    "\n",
    "t = ('dog', 'cat', 'rabbit')\n",
    "type(t)\n",
    "print(t.index(cat))"
   ]
  },
  {
   "cell_type": "code",
   "execution_count": 16,
   "id": "1dfbc959-8b0d-451c-973a-94f0e93f5561",
   "metadata": {},
   "outputs": [
    {
     "name": "stdin",
     "output_type": "stream",
     "text": [
      "Enter the fruit name : apple\n"
     ]
    },
    {
     "name": "stdout",
     "output_type": "stream",
     "text": [
      "True\n"
     ]
    }
   ],
   "source": [
    "# 15. Write a code to create a tuple containing three different fruits and check if \"kiwi\" is in it\n",
    "\n",
    "fr = input(\"Enter the fruit name :\")\n",
    "fruits = (\"apple\", \"banana\", \"Kiwi\")\n",
    "\n",
    "if fr in fruits:\n",
    "    print(True)\n",
    "else:\n",
    "    print(False)"
   ]
  },
  {
   "cell_type": "code",
   "execution_count": 17,
   "id": "e402140c-1a10-4404-9df2-61b759092fbc",
   "metadata": {},
   "outputs": [
    {
     "name": "stdout",
     "output_type": "stream",
     "text": [
      "{'b', 'a', 'c'}\n",
      "<class 'set'>\n"
     ]
    }
   ],
   "source": [
    "# 16. Write a code to create a set with the elements 'a', 'b', 'c' and print it.\n",
    "\n",
    "set = {'a', 'b', 'c'}\n",
    "print(set)\n",
    "print(type(set))"
   ]
  },
  {
   "cell_type": "code",
   "execution_count": 18,
   "id": "a8625219-6c49-43d3-ae8f-a60dc0745a8b",
   "metadata": {},
   "outputs": [
    {
     "name": "stdout",
     "output_type": "stream",
     "text": [
      "None\n"
     ]
    }
   ],
   "source": [
    "# 17. Write a code to clear all elements from the set {1, 2, 3, 4, 5}\n",
    "\n",
    "set = {1, 2, 3, 4, 5}\n",
    "a = (set.clear())\n",
    "print(a)"
   ]
  },
  {
   "cell_type": "code",
   "execution_count": 24,
   "id": "30c5d19d-57c5-476d-8623-aa0e615e765e",
   "metadata": {},
   "outputs": [
    {
     "name": "stdout",
     "output_type": "stream",
     "text": [
      "{1, 2, 3, 5}\n"
     ]
    }
   ],
   "source": [
    "# 18. Write a code to remove the element 4 from the set {1, 2, 3, 4}\n",
    "# Ans my_set = {1, 2, 3, 4}\n",
    "my_set.discard(4)\n",
    "\n",
    "print(my_set)"
   ]
  },
  {
   "cell_type": "code",
   "execution_count": 25,
   "id": "4c477975-88e9-4a24-8ead-36503f128c1e",
   "metadata": {},
   "outputs": [
    {
     "ename": "NameError",
     "evalue": "name 'set1' is not defined",
     "output_type": "error",
     "traceback": [
      "\u001b[31m---------------------------------------------------------------------------\u001b[39m",
      "\u001b[31mNameError\u001b[39m                                 Traceback (most recent call last)",
      "\u001b[36mCell\u001b[39m\u001b[36m \u001b[39m\u001b[32mIn[25]\u001b[39m\u001b[32m, line 5\u001b[39m\n\u001b[32m      1\u001b[39m \u001b[38;5;66;03m# 19. Write a code to find the union of two sets {1, 2, 3} and {3, 4, 5}.\u001b[39;00m\n\u001b[32m      2\u001b[39m \u001b[38;5;66;03m# Ans - set1 = {1, 2, 3}\u001b[39;00m\n\u001b[32m      3\u001b[39m set2 = {\u001b[32m3\u001b[39m, \u001b[32m4\u001b[39m, \u001b[32m5\u001b[39m}\n\u001b[32m----> \u001b[39m\u001b[32m5\u001b[39m union_set = \u001b[43mset1\u001b[49m | set2\n\u001b[32m      7\u001b[39m \u001b[38;5;28mprint\u001b[39m(union_set)\n",
      "\u001b[31mNameError\u001b[39m: name 'set1' is not defined"
     ]
    }
   ],
   "source": [
    "# 19. Write a code to find the union of two sets {1, 2, 3} and {3, 4, 5}.\n",
    "# Ans - set1 = {1, 2, 3}\n",
    "set2 = {3, 4, 5}\n",
    "\n",
    "union_set = set1 | set2\n",
    "\n",
    "print(union_set)"
   ]
  },
  {
   "cell_type": "code",
   "execution_count": null,
   "id": "a4f9152f-fd12-402e-b7fa-55fcea8ae579",
   "metadata": {},
   "outputs": [],
   "source": [
    "# 20. Write a code to find the intersection of two sets {1, 2, 3} and {2, 3, 4\n",
    "# "
   ]
  },
  {
   "cell_type": "code",
   "execution_count": null,
   "id": "42c02917-5395-43ba-90b1-c70deab07159",
   "metadata": {},
   "outputs": [],
   "source": []
  },
  {
   "cell_type": "code",
   "execution_count": null,
   "id": "6924b865-9e4e-41f0-a3dc-d4e584fc7307",
   "metadata": {},
   "outputs": [],
   "source": []
  },
  {
   "cell_type": "code",
   "execution_count": null,
   "id": "2d991238-f13e-45fc-9b7e-0904055a220f",
   "metadata": {},
   "outputs": [],
   "source": []
  },
  {
   "cell_type": "code",
   "execution_count": null,
   "id": "bc4a3da0-73f6-4b08-bc1a-5a1d48d159dd",
   "metadata": {},
   "outputs": [],
   "source": []
  },
  {
   "cell_type": "code",
   "execution_count": null,
   "id": "1c515ef7-7a7f-4407-aef3-43a012b6d07a",
   "metadata": {},
   "outputs": [],
   "source": []
  },
  {
   "cell_type": "code",
   "execution_count": null,
   "id": "2b48f3bb-f197-4ef2-afe8-dba1882e5fff",
   "metadata": {},
   "outputs": [],
   "source": []
  },
  {
   "cell_type": "code",
   "execution_count": null,
   "id": "437709e7-8592-4711-8331-ed12afadc55c",
   "metadata": {},
   "outputs": [],
   "source": []
  },
  {
   "cell_type": "code",
   "execution_count": null,
   "id": "a9828a6c-ee5c-40ea-b785-17f77743f7e2",
   "metadata": {},
   "outputs": [],
   "source": []
  },
  {
   "cell_type": "code",
   "execution_count": null,
   "id": "772b125f-dee4-4c57-826f-1650521d7904",
   "metadata": {},
   "outputs": [],
   "source": []
  },
  {
   "cell_type": "code",
   "execution_count": null,
   "id": "67c92efe-02b5-410b-aabd-57b8b7f7886a",
   "metadata": {},
   "outputs": [],
   "source": []
  },
  {
   "cell_type": "code",
   "execution_count": null,
   "id": "327c5658-36d2-4f25-b48e-9e7a7f9ffd91",
   "metadata": {},
   "outputs": [],
   "source": []
  }
 ],
 "metadata": {
  "kernelspec": {
   "display_name": "Python 3 (ipykernel)",
   "language": "python",
   "name": "python3"
  },
  "language_info": {
   "codemirror_mode": {
    "name": "ipython",
    "version": 3
   },
   "file_extension": ".py",
   "mimetype": "text/x-python",
   "name": "python",
   "nbconvert_exporter": "python",
   "pygments_lexer": "ipython3",
   "version": "3.13.2"
  }
 },
 "nbformat": 4,
 "nbformat_minor": 5
}
